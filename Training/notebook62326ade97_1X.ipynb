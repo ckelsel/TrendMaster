{
 "cells": [
  {
   "cell_type": "code",
   "execution_count": 1,
   "metadata": {
    "ExecuteTime": {
     "end_time": "2021-06-08T03:35:16.666081Z",
     "start_time": "2021-06-08T03:35:15.367267Z"
    },
    "scrolled": true
   },
   "outputs": [],
   "source": [
    "import numpy as np # linear algebra\n",
    "import pandas as pd # data processing, CSV file I/O (e.g. pd.read_csv)\n",
    "import joblib\n",
    "import os\n",
    "for dirname, _, filenames in os.walk('/kaggle/input'):\n",
    "    for filename in filenames:\n",
    "#         print(os.path.join(dirname, filename))\n",
    "        continue\n",
    "import torch\n",
    "import torch.nn as nn\n",
    "import numpy as np\n",
    "import time\n",
    "import math\n",
    "from matplotlib import pyplot\n",
    "import joblib\n",
    "from sklearn.preprocessing import MinMaxScaler\n",
    "\n",
    "torch.manual_seed(0)\n",
    "np.random.seed(0)\n",
    "calculate_loss_over_all_values = False"
   ]
  },
  {
   "cell_type": "code",
   "execution_count": 2,
   "metadata": {},
   "outputs": [
    {
     "data": {
      "text/plain": [
       "device(type='cuda')"
      ]
     },
     "execution_count": 2,
     "metadata": {},
     "output_type": "execute_result"
    }
   ],
   "source": [
    "# # for TPU\n",
    "# device = xm.xla_device()\n",
    "# torch.set_default_tensor_type('torch.FloatTensor')\n",
    "# import torch_xla\n",
    "# import torch_xla.core.xla_model as xm\n",
    "\n",
    "## FOR GPU AND CPU\n",
    "device = torch.device(\"cuda\" if torch.cuda.is_available() else \"cpu\")\n",
    "device"
   ]
  },
  {
   "cell_type": "code",
   "execution_count": 3,
   "metadata": {},
   "outputs": [],
   "source": [
    "# import joblib\n",
    "# this_inst_df = joblib.load(f'./dt11112222/1793.p')\n",
    "# this_inst_df"
   ]
  },
  {
   "cell_type": "code",
   "execution_count": 3,
   "metadata": {
    "ExecuteTime": {
     "end_time": "2021-06-08T03:35:16.746534Z",
     "start_time": "2021-06-08T03:35:16.669005Z"
    }
   },
   "outputs": [],
   "source": [
    "# S is the source sequence length\n",
    "# T is the target sequence length\n",
    "# N is the batch size\n",
    "# E is the feature number\n",
    "#src = torch.rand((10, 32, 512)) # (S,N,E) \n",
    "#tgt = torch.rand((20, 32, 512)) # (T,N,E)\n",
    "#out = transformer_model(src, tgt)\n",
    "#print(out)\n",
    "\n",
    "input_window = 300\n",
    "output_window = 5\n",
    "batch_size = 5 # batch size\n",
    "\n",
    "class PositionalEncoding(nn.Module):\n",
    "    def __init__(self, d_model, max_len=5000):\n",
    "        super(PositionalEncoding, self).__init__()       \n",
    "        pe = torch.zeros(max_len, d_model)\n",
    "        position = torch.arange(0, max_len, dtype=torch.float).unsqueeze(1)\n",
    "        div_term = torch.exp(torch.arange(0, d_model, 2).float() * (-math.log(10000.0) / d_model))\n",
    "        pe[:, 0::2] = torch.sin(position * div_term)\n",
    "        pe[:, 1::2] = torch.cos(position * div_term)\n",
    "        pe = pe.unsqueeze(0).transpose(0, 1)\n",
    "        #pe.requires_grad = False\n",
    "        self.register_buffer('pe', pe)\n",
    "    def forward(self, x):\n",
    "        return x + self.pe[:x.size(0), :]\n",
    "\n",
    "class TransAm(nn.Module):\n",
    "    def __init__(self,feature_size=30,num_layers=2,dropout=0.2):\n",
    "        super(TransAm, self).__init__()\n",
    "        self.model_type = 'Transformer'\n",
    "        self.src_mask = None\n",
    "        self.pos_encoder = PositionalEncoding(feature_size)\n",
    "        self.encoder_layer = nn.TransformerEncoderLayer(d_model=feature_size, nhead=10, dropout=dropout)\n",
    "        self.transformer_encoder = nn.TransformerEncoder(self.encoder_layer, num_layers=num_layers)        \n",
    "        self.decoder = nn.Linear(feature_size,1)\n",
    "        self.init_weights()\n",
    "    def init_weights(self):\n",
    "        initrange = 0.1    \n",
    "        self.decoder.bias.data.zero_()\n",
    "        self.decoder.weight.data.uniform_(-initrange, initrange)\n",
    "    def forward(self,src):\n",
    "        if self.src_mask is None or self.src_mask.size(0) != len(src):\n",
    "            device = src.device\n",
    "            mask = self._generate_square_subsequent_mask(len(src)).to(device)\n",
    "            self.src_mask = mask\n",
    "        src = self.pos_encoder(src)\n",
    "        output = self.transformer_encoder(src,self.src_mask)#, self.src_mask)\n",
    "        output = self.decoder(output)\n",
    "        return output\n",
    "    def _generate_square_subsequent_mask(self, sz):\n",
    "        mask = (torch.triu(torch.ones(sz, sz)) == 1).transpose(0, 1)\n",
    "        mask = mask.float().masked_fill(mask == 0, float('-inf')).masked_fill(mask == 1, float(0.0))\n",
    "        return mask\n",
    "\n",
    "# if window is 100 and prediction step is 1\n",
    "# in -> [0..99]\n",
    "# target -> [1..100]\n",
    "def create_inout_sequences(input_data, tw):\n",
    "    inout_seq = []\n",
    "    L = len(input_data)\n",
    "    for i in range(L-tw):\n",
    "        train_seq = np.append(input_data[i:i+tw][:-output_window] , output_window * [0])\n",
    "        train_label = input_data[i:i+tw]\n",
    "        #train_label = input_data[i+output_window:i+tw+output_window]\n",
    "        inout_seq.append((train_seq ,train_label))\n",
    "    return torch.FloatTensor(inout_seq)\n",
    "\n",
    "def get_data2(inst):\n",
    "    this_inst_df = joblib.load(f'./dt11112222/{inst}.p')\n",
    "    amplitude = this_inst_df['close'].to_numpy()\n",
    "    amplitude = amplitude.reshape(-1)\n",
    "    print(amplitude.shape)\n",
    "    \n",
    "    scaler = MinMaxScaler(feature_range=(-15, 15)) \n",
    "    amplitude = scaler.fit_transform(amplitude.reshape(-1, 1)).reshape(-1)\n",
    "    \n",
    "    sampels = int(amplitude.shape[0]*0.95)\n",
    "    train_data = amplitude[:sampels]\n",
    "    test_data = amplitude[sampels:]\n",
    "\n",
    "    train_sequence = create_inout_sequences(train_data,input_window)\n",
    "    train_sequence = train_sequence[:-output_window]\n",
    "    print(train_sequence.shape)\n",
    "    \n",
    "    test_data = create_inout_sequences(test_data,input_window)\n",
    "    test_data = test_data[:-output_window]\n",
    "    print(test_data.shape)\n",
    "    \n",
    "    return train_sequence.to(device),test_data.to(device)\n",
    "\n",
    "def get_batch(source, i,batch_size):\n",
    "    seq_len = min(batch_size, len(source) - 1 - i)\n",
    "    data = source[i:i+seq_len]    \n",
    "    input = torch.stack(torch.stack([item[0] for item in data]).chunk(input_window,1)) # 1 is feature size\n",
    "    target = torch.stack(torch.stack([item[1] for item in data]).chunk(input_window,1))\n",
    "    return input, target\n",
    "\n",
    "\n",
    "def train(train_data):\n",
    "    model.train() # Turn on the train mode\n",
    "    total_loss = 0.\n",
    "    start_time = time.time()\n",
    "    for batch, i in enumerate(range(0, len(train_data) - 1, batch_size)):\n",
    "        data, targets = get_batch(train_data, i,batch_size)\n",
    "        optimizer.zero_grad()\n",
    "        output = model(data)        \n",
    "        if calculate_loss_over_all_values:\n",
    "            loss = criterion(output, targets)\n",
    "        else:\n",
    "            loss = criterion(output[-output_window:], targets[-output_window:])\n",
    "        loss.backward()\n",
    "        torch.nn.utils.clip_grad_norm_(model.parameters(), 0.5)\n",
    "        optimizer.step()\n",
    "        total_loss += loss.item()\n",
    "        log_interval = int(len(train_data) / batch_size / 5)\n",
    "        if batch % log_interval == 0 and batch > 0:\n",
    "            cur_loss = total_loss / log_interval\n",
    "            elapsed = time.time() - start_time\n",
    "            print('| epoch {:3d} | {:5d}/{:5d} batches | '\n",
    "                  'lr {:02.6f} | {:5.2f} ms | '\n",
    "                  'loss {:5.5f} | ppl {:8.2f}'.format(\n",
    "                    epoch, batch, len(train_data) // batch_size, scheduler.get_lr()[0],\n",
    "                    elapsed * 1000 / log_interval,\n",
    "                    cur_loss, math.exp(cur_loss)))\n",
    "            total_loss = 0\n",
    "            start_time = time.time()\n",
    "plot_counter = 0\n",
    "def plot_and_loss(eval_model, data_source,epoch,tknip):\n",
    "    global plot_counter\n",
    "    eval_model.eval() \n",
    "    total_loss = 0.\n",
    "    test_result = torch.Tensor(0)    \n",
    "    truth = torch.Tensor(0)\n",
    "    with torch.no_grad():\n",
    "        for i in range(0, len(data_source) - 1):\n",
    "            data, target = get_batch(data_source, i,1)\n",
    "            # look like the model returns static values for the output window\n",
    "            output = eval_model(data)    \n",
    "            if calculate_loss_over_all_values:                                \n",
    "                total_loss += criterion(output, target).item()\n",
    "            else:\n",
    "                total_loss += criterion(output[-output_window:], target[-output_window:]).item()\n",
    "\n",
    "            test_result = torch.cat((test_result.to(device), output[-1].view(-1).to(device)), 0) #todo: check this. -> looks good to me\n",
    "            truth = torch.cat((truth.to(device), target[-1].view(-1).to(device)), 0)\n",
    "            \n",
    "#             test_result = torch.cat((test_result, output[-1].view(-1).cpu()), 0) #todo: check this. -> looks good to me\n",
    "#             truth = torch.cat((truth, target[-1].view(-1).cpu()), 0)\n",
    "            \n",
    "    test_result = test_result.cpu().numpy()\n",
    "    truth = truth.cpu().numpy()\n",
    "    len(test_result)\n",
    "    plot_counter +=1\n",
    "    pyplot.plot(test_result,color=\"red\")\n",
    "    pyplot.plot(truth[:500],color=\"blue\")\n",
    "    pyplot.plot(test_result-truth,color=\"green\")\n",
    "    pyplot.grid(True, which='both')\n",
    "    pyplot.axhline(y=0, color='k')\n",
    "    pyplot.savefig(f'./plots2/transformer-epoch_{plot_counter}_{epoch}_{tknip}.png')\n",
    "    pyplot.close()\n",
    "    \n",
    "    return total_loss / i\n",
    "\n",
    "\n",
    "def predict_future(eval_model, data_source,steps,tknip):\n",
    "    eval_model.eval() \n",
    "    total_loss = 0.\n",
    "    test_result = torch.Tensor(0)    \n",
    "    truth = torch.Tensor(0)\n",
    "    _ , data = get_batch(data_source, 0,1)\n",
    "    with torch.no_grad():\n",
    "        for i in range(0, steps,1):\n",
    "            input = torch.clone(data[-input_window:])\n",
    "            input[-output_window:] = 0     \n",
    "            output = eval_model(data[-input_window:])                        \n",
    "            data = torch.cat((data, output[-1:]))\n",
    "            \n",
    "#     data = data.to(device).view(-1)\n",
    "    data = data.cpu().view(-1)\n",
    "    pyplot.plot(data,color=\"red\")       \n",
    "    pyplot.plot(data[:input_window],color=\"blue\")\n",
    "    pyplot.grid(True, which='both')\n",
    "    pyplot.axhline(y=0, color='k')\n",
    "    pyplot.savefig(f'./plots2/transformer-future_{plot_counter}_{steps}_{tknip}.png')\n",
    "    pyplot.close()\n",
    "        \n",
    "# entweder ist hier ein fehler im loss oder in der train methode, aber die ergebnisse sind unterschiedlich \n",
    "# auch zu denen der predict_future\n",
    "def evaluate(eval_model, data_source):\n",
    "    eval_model.eval() # Turn on the evaluation mode\n",
    "    total_loss = 0.\n",
    "    eval_batch_size = 1000\n",
    "    with torch.no_grad():\n",
    "        for i in range(0, len(data_source) - 1, eval_batch_size):\n",
    "            data, targets = get_batch(data_source, i,eval_batch_size)\n",
    "            output = eval_model(data)            \n",
    "            if calculate_loss_over_all_values:\n",
    "                total_loss += len(data[0])* criterion(output, targets).to(device).item()\n",
    "#                 total_loss += len(data[0])* criterion(output, targets).cpu().item()\n",
    "            else:                                \n",
    "                total_loss += len(data[0])* criterion(output[-output_window:], targets[-output_window:]).to(device).item()            \n",
    "#                 total_loss += len(data[0])* criterion(output[-output_window:], targets[-output_window:]).cpu().item()            \n",
    "    return total_loss / len(data_source)"
   ]
  },
  {
   "cell_type": "code",
   "execution_count": 4,
   "metadata": {
    "ExecuteTime": {
     "end_time": "2021-06-08T03:35:18.735834Z",
     "start_time": "2021-06-08T03:35:16.748679Z"
    }
   },
   "outputs": [],
   "source": [
    "# model = TransAm().to(device)\n",
    "model= torch.load('./best_model_multi10.pt')\n",
    "\n",
    "valid_loss_list = []\n",
    "\n",
    "criterion = nn.MSELoss()\n",
    "lr = 0.000001\n",
    "#optimizer = torch.optim.SGD(model.parameters(), lr=lr)\n",
    "optimizer = torch.optim.AdamW(model.parameters(), lr=lr)\n",
    "scheduler = torch.optim.lr_scheduler.StepLR(optimizer, 1.0, gamma=0.98)\n",
    "\n",
    "best_val_loss = float(\"inf\")\n",
    "epochs = 1 # The number of epochs\n",
    "best_model = None"
   ]
  },
  {
   "cell_type": "code",
   "execution_count": null,
   "metadata": {},
   "outputs": [
    {
     "name": "stdout",
     "output_type": "stream",
     "text": [
      "(115880,)\n",
      "torch.Size([109781, 2, 300])\n",
      "torch.Size([5489, 2, 300])\n"
     ]
    },
    {
     "name": "stderr",
     "output_type": "stream",
     "text": [
      "/opt/conda/lib/python3.7/site-packages/torch/optim/lr_scheduler.py:370: UserWarning: To get the last learning rate computed by the scheduler, please use `get_last_lr()`.\n",
      "  \"please use `get_last_lr()`.\", UserWarning)\n"
     ]
    },
    {
     "name": "stdout",
     "output_type": "stream",
     "text": [
      "| epoch   1 |  4391/21956 batches | lr 0.000001 | 21.97 ms | loss 0.08706 | ppl     1.09\n",
      "| epoch   1 |  8782/21956 batches | lr 0.000001 | 22.25 ms | loss 0.04857 | ppl     1.05\n",
      "| epoch   1 | 13173/21956 batches | lr 0.000001 | 22.30 ms | loss 0.04342 | ppl     1.04\n",
      "| epoch   1 | 17564/21956 batches | lr 0.000001 | 19.18 ms | loss 0.09779 | ppl     1.10\n",
      "| epoch   1 | 21955/21956 batches | lr 0.000001 | 22.23 ms | loss 0.10806 | ppl     1.11\n",
      "-----------------------------------------------------------------------------------------\n",
      "| end of epoch   1 | time: 491.94s | valid loss 8.85451 | valid ppl  7005.89\n",
      "-----------------------------------------------------------------------------------------\n",
      "./dt11112222/2952193.p\n",
      "(115877,)\n",
      "torch.Size([109778, 2, 300])\n",
      "torch.Size([5489, 2, 300])\n"
     ]
    },
    {
     "name": "stderr",
     "output_type": "stream",
     "text": [
      "/opt/conda/lib/python3.7/site-packages/torch/optim/lr_scheduler.py:370: UserWarning: To get the last learning rate computed by the scheduler, please use `get_last_lr()`.\n",
      "  \"please use `get_last_lr()`.\", UserWarning)\n"
     ]
    },
    {
     "name": "stdout",
     "output_type": "stream",
     "text": [
      "| epoch   1 |  4391/21955 batches | lr 0.000001 | 22.32 ms | loss 2.96867 | ppl    19.47\n",
      "| epoch   1 |  8782/21955 batches | lr 0.000001 | 21.40 ms | loss 0.43484 | ppl     1.54\n",
      "| epoch   1 | 13173/21955 batches | lr 0.000001 | 19.98 ms | loss 0.04881 | ppl     1.05\n",
      "| epoch   1 | 17564/21955 batches | lr 0.000001 | 22.31 ms | loss 0.21081 | ppl     1.23\n",
      "| epoch   1 | 21955/21955 batches | lr 0.000001 | 22.27 ms | loss 0.76528 | ppl     2.15\n",
      "-----------------------------------------------------------------------------------------\n",
      "| end of epoch   1 | time: 493.55s | valid loss 1.65074 | valid ppl     5.21\n",
      "-----------------------------------------------------------------------------------------\n",
      "./dt11112222/895745.p\n",
      "(115858,)\n",
      "torch.Size([109760, 2, 300])\n",
      "torch.Size([5488, 2, 300])\n"
     ]
    },
    {
     "name": "stderr",
     "output_type": "stream",
     "text": [
      "/opt/conda/lib/python3.7/site-packages/torch/optim/lr_scheduler.py:370: UserWarning: To get the last learning rate computed by the scheduler, please use `get_last_lr()`.\n",
      "  \"please use `get_last_lr()`.\", UserWarning)\n"
     ]
    },
    {
     "name": "stdout",
     "output_type": "stream",
     "text": [
      "| epoch   1 |  4390/21952 batches | lr 0.000001 | 19.03 ms | loss 1.72853 | ppl     5.63\n",
      "| epoch   1 |  8780/21952 batches | lr 0.000001 | 22.27 ms | loss 0.12743 | ppl     1.14\n",
      "| epoch   1 | 13170/21952 batches | lr 0.000001 | 22.36 ms | loss 1.27592 | ppl     3.58\n",
      "| epoch   1 | 17560/21952 batches | lr 0.000001 | 22.34 ms | loss 0.82095 | ppl     2.27\n",
      "| epoch   1 | 21950/21952 batches | lr 0.000001 | 19.18 ms | loss 0.18217 | ppl     1.20\n",
      "-----------------------------------------------------------------------------------------\n",
      "| end of epoch   1 | time: 479.89s | valid loss 0.21266 | valid ppl     1.24\n",
      "-----------------------------------------------------------------------------------------\n",
      "./dt11112222/2585345.p\n",
      "(115880,)\n",
      "torch.Size([109781, 2, 300])\n",
      "torch.Size([5489, 2, 300])\n"
     ]
    },
    {
     "name": "stderr",
     "output_type": "stream",
     "text": [
      "/opt/conda/lib/python3.7/site-packages/torch/optim/lr_scheduler.py:370: UserWarning: To get the last learning rate computed by the scheduler, please use `get_last_lr()`.\n",
      "  \"please use `get_last_lr()`.\", UserWarning)\n"
     ]
    },
    {
     "name": "stdout",
     "output_type": "stream",
     "text": [
      "| epoch   1 |  4391/21956 batches | lr 0.000001 | 22.28 ms | loss 3.03065 | ppl    20.71\n",
      "| epoch   1 |  8782/21956 batches | lr 0.000001 | 22.27 ms | loss 6.38898 | ppl   595.25\n",
      "| epoch   1 | 13173/21956 batches | lr 0.000001 | 19.51 ms | loss 3.04744 | ppl    21.06\n",
      "| epoch   1 | 17564/21956 batches | lr 0.000001 | 21.99 ms | loss 0.84512 | ppl     2.33\n",
      "| epoch   1 | 21955/21956 batches | lr 0.000001 | 22.34 ms | loss 1.93013 | ppl     6.89\n",
      "-----------------------------------------------------------------------------------------\n",
      "| end of epoch   1 | time: 494.09s | valid loss 3.54701 | valid ppl    34.71\n",
      "-----------------------------------------------------------------------------------------\n",
      "./dt11112222/969473.p\n",
      "(115849,)\n",
      "torch.Size([109751, 2, 300])\n",
      "torch.Size([5488, 2, 300])\n"
     ]
    },
    {
     "name": "stderr",
     "output_type": "stream",
     "text": [
      "/opt/conda/lib/python3.7/site-packages/torch/optim/lr_scheduler.py:370: UserWarning: To get the last learning rate computed by the scheduler, please use `get_last_lr()`.\n",
      "  \"please use `get_last_lr()`.\", UserWarning)\n"
     ]
    },
    {
     "name": "stdout",
     "output_type": "stream",
     "text": [
      "| epoch   1 |  4390/21950 batches | lr 0.000001 | 22.28 ms | loss 1.10250 | ppl     3.01\n",
      "| epoch   1 |  8780/21950 batches | lr 0.000001 | 19.19 ms | loss 0.64076 | ppl     1.90\n",
      "| epoch   1 | 13170/21950 batches | lr 0.000001 | 22.29 ms | loss 0.40898 | ppl     1.51\n",
      "| epoch   1 | 17560/21950 batches | lr 0.000001 | 22.28 ms | loss 0.24901 | ppl     1.28\n",
      "-----------------------------------------------------------------------------------------\n",
      "| end of epoch   1 | time: 486.88s | valid loss 3.02039 | valid ppl    20.50\n",
      "-----------------------------------------------------------------------------------------\n",
      "./dt11112222/1195009.p\n",
      "(115858,)\n",
      "torch.Size([109760, 2, 300])\n",
      "torch.Size([5488, 2, 300])\n"
     ]
    },
    {
     "name": "stderr",
     "output_type": "stream",
     "text": [
      "/opt/conda/lib/python3.7/site-packages/torch/optim/lr_scheduler.py:370: UserWarning: To get the last learning rate computed by the scheduler, please use `get_last_lr()`.\n",
      "  \"please use `get_last_lr()`.\", UserWarning)\n"
     ]
    },
    {
     "name": "stdout",
     "output_type": "stream",
     "text": [
      "| epoch   1 |  4390/21952 batches | lr 0.000001 | 22.37 ms | loss 5.99139 | ppl   399.97\n",
      "| epoch   1 |  8780/21952 batches | lr 0.000001 | 22.32 ms | loss 0.33451 | ppl     1.40\n",
      "| epoch   1 | 13170/21952 batches | lr 0.000001 | 22.34 ms | loss 0.20684 | ppl     1.23\n",
      "| epoch   1 | 17560/21952 batches | lr 0.000001 | 19.15 ms | loss 0.20000 | ppl     1.22\n",
      "| epoch   1 | 21950/21952 batches | lr 0.000001 | 22.31 ms | loss 0.24504 | ppl     1.28\n",
      "-----------------------------------------------------------------------------------------\n",
      "| end of epoch   1 | time: 494.31s | valid loss 6.49502 | valid ppl   661.83\n",
      "-----------------------------------------------------------------------------------------\n",
      "./dt11112222/523009.p\n",
      "(115871,)\n",
      "torch.Size([109772, 2, 300])\n",
      "torch.Size([5489, 2, 300])\n"
     ]
    },
    {
     "name": "stderr",
     "output_type": "stream",
     "text": [
      "/opt/conda/lib/python3.7/site-packages/torch/optim/lr_scheduler.py:370: UserWarning: To get the last learning rate computed by the scheduler, please use `get_last_lr()`.\n",
      "  \"please use `get_last_lr()`.\", UserWarning)\n"
     ]
    },
    {
     "name": "stdout",
     "output_type": "stream",
     "text": [
      "| epoch   1 |  4390/21954 batches | lr 0.000001 | 22.26 ms | loss 2.78019 | ppl    16.12\n",
      "| epoch   1 |  8780/21954 batches | lr 0.000001 | 21.38 ms | loss 7.48320 | ppl  1777.91\n",
      "| epoch   1 | 13170/21954 batches | lr 0.000001 | 20.09 ms | loss 4.37720 | ppl    79.61\n",
      "| epoch   1 | 17560/21954 batches | lr 0.000001 | 22.30 ms | loss 1.28243 | ppl     3.61\n",
      "| epoch   1 | 21950/21954 batches | lr 0.000001 | 22.29 ms | loss 0.77431 | ppl     2.17\n",
      "-----------------------------------------------------------------------------------------\n",
      "| end of epoch   1 | time: 493.77s | valid loss 5.63163 | valid ppl   279.12\n",
      "-----------------------------------------------------------------------------------------\n",
      "./dt11112222/3675137.p\n",
      "(115879,)\n",
      "torch.Size([109780, 2, 300])\n",
      "torch.Size([5489, 2, 300])\n"
     ]
    },
    {
     "name": "stderr",
     "output_type": "stream",
     "text": [
      "/opt/conda/lib/python3.7/site-packages/torch/optim/lr_scheduler.py:370: UserWarning: To get the last learning rate computed by the scheduler, please use `get_last_lr()`.\n",
      "  \"please use `get_last_lr()`.\", UserWarning)\n"
     ]
    },
    {
     "name": "stdout",
     "output_type": "stream",
     "text": [
      "| epoch   1 |  4391/21956 batches | lr 0.000001 | 19.15 ms | loss 6.31850 | ppl   554.74\n",
      "| epoch   1 |  8782/21956 batches | lr 0.000001 | 22.32 ms | loss 2.75774 | ppl    15.76\n",
      "| epoch   1 | 13173/21956 batches | lr 0.000001 | 22.33 ms | loss 0.23490 | ppl     1.26\n",
      "| epoch   1 | 17564/21956 batches | lr 0.000001 | 22.31 ms | loss 0.19592 | ppl     1.22\n",
      "| epoch   1 | 21955/21956 batches | lr 0.000001 | 19.16 ms | loss 0.25604 | ppl     1.29\n",
      "-----------------------------------------------------------------------------------------\n",
      "| end of epoch   1 | time: 480.36s | valid loss 8.06208 | valid ppl  3171.89\n",
      "-----------------------------------------------------------------------------------------\n",
      "./dt11112222/951809.p\n",
      "(115853,)\n",
      "torch.Size([109755, 2, 300])\n",
      "torch.Size([5488, 2, 300])\n"
     ]
    },
    {
     "name": "stderr",
     "output_type": "stream",
     "text": [
      "/opt/conda/lib/python3.7/site-packages/torch/optim/lr_scheduler.py:370: UserWarning: To get the last learning rate computed by the scheduler, please use `get_last_lr()`.\n",
      "  \"please use `get_last_lr()`.\", UserWarning)\n"
     ]
    },
    {
     "name": "stdout",
     "output_type": "stream",
     "text": [
      "| epoch   1 |  4390/21951 batches | lr 0.000001 | 22.33 ms | loss 3.45944 | ppl    31.80\n",
      "| epoch   1 |  8780/21951 batches | lr 0.000001 | 22.31 ms | loss 0.93366 | ppl     2.54\n",
      "| epoch   1 | 13170/21951 batches | lr 0.000001 | 19.10 ms | loss 0.52081 | ppl     1.68\n",
      "| epoch   1 | 17560/21951 batches | lr 0.000001 | 22.32 ms | loss 3.08540 | ppl    21.88\n",
      "| epoch   1 | 21950/21951 batches | lr 0.000001 | 22.30 ms | loss 3.86938 | ppl    47.91\n",
      "-----------------------------------------------------------------------------------------\n",
      "| end of epoch   1 | time: 493.85s | valid loss 1.23359 | valid ppl     3.43\n",
      "-----------------------------------------------------------------------------------------\n",
      "./dt11112222/98049.p\n",
      "(115853,)\n",
      "torch.Size([109755, 2, 300])\n",
      "torch.Size([5488, 2, 300])\n"
     ]
    },
    {
     "name": "stderr",
     "output_type": "stream",
     "text": [
      "/opt/conda/lib/python3.7/site-packages/torch/optim/lr_scheduler.py:370: UserWarning: To get the last learning rate computed by the scheduler, please use `get_last_lr()`.\n",
      "  \"please use `get_last_lr()`.\", UserWarning)\n"
     ]
    },
    {
     "name": "stdout",
     "output_type": "stream",
     "text": [
      "| epoch   1 |  4390/21951 batches | lr 0.000001 | 22.34 ms | loss 1.88149 | ppl     6.56\n",
      "| epoch   1 |  8780/21951 batches | lr 0.000001 | 19.14 ms | loss 0.81593 | ppl     2.26\n",
      "| epoch   1 | 13170/21951 batches | lr 0.000001 | 22.34 ms | loss 0.40002 | ppl     1.49\n",
      "| epoch   1 | 17560/21951 batches | lr 0.000001 | 22.34 ms | loss 0.27405 | ppl     1.32\n",
      "| epoch   1 | 21950/21951 batches | lr 0.000001 | 21.53 ms | loss 1.59346 | ppl     4.92\n",
      "-----------------------------------------------------------------------------------------\n",
      "| end of epoch   1 | time: 486.39s | valid loss 0.76224 | valid ppl     2.14\n",
      "-----------------------------------------------------------------------------------------\n",
      "./dt11112222/558337.p\n",
      "(115876,)\n",
      "torch.Size([109777, 2, 300])\n",
      "torch.Size([5489, 2, 300])\n"
     ]
    },
    {
     "name": "stderr",
     "output_type": "stream",
     "text": [
      "/opt/conda/lib/python3.7/site-packages/torch/optim/lr_scheduler.py:370: UserWarning: To get the last learning rate computed by the scheduler, please use `get_last_lr()`.\n",
      "  \"please use `get_last_lr()`.\", UserWarning)\n"
     ]
    },
    {
     "name": "stdout",
     "output_type": "stream",
     "text": [
      "| epoch   1 |  4391/21955 batches | lr 0.000001 | 22.38 ms | loss 6.01780 | ppl   410.67\n",
      "| epoch   1 |  8782/21955 batches | lr 0.000001 | 22.29 ms | loss 0.59537 | ppl     1.81\n",
      "| epoch   1 | 13173/21955 batches | lr 0.000001 | 19.56 ms | loss 0.22156 | ppl     1.25\n",
      "| epoch   1 | 17564/21955 batches | lr 0.000001 | 22.32 ms | loss 0.48233 | ppl     1.62\n",
      "| epoch   1 | 21955/21955 batches | lr 0.000001 | 22.33 ms | loss 1.89659 | ppl     6.66\n",
      "-----------------------------------------------------------------------------------------\n",
      "| end of epoch   1 | time: 496.24s | valid loss 0.30848 | valid ppl     1.36\n",
      "-----------------------------------------------------------------------------------------\n",
      "./dt11112222/3365633.p\n",
      "(115852,)\n",
      "torch.Size([109754, 2, 300])\n",
      "torch.Size([5488, 2, 300])\n"
     ]
    },
    {
     "name": "stderr",
     "output_type": "stream",
     "text": [
      "/opt/conda/lib/python3.7/site-packages/torch/optim/lr_scheduler.py:370: UserWarning: To get the last learning rate computed by the scheduler, please use `get_last_lr()`.\n",
      "  \"please use `get_last_lr()`.\", UserWarning)\n"
     ]
    },
    {
     "name": "stdout",
     "output_type": "stream",
     "text": [
      "| epoch   1 |  4390/21950 batches | lr 0.000001 | 21.58 ms | loss 0.33747 | ppl     1.40\n",
      "| epoch   1 |  8780/21950 batches | lr 0.000001 | 19.81 ms | loss 0.30606 | ppl     1.36\n",
      "| epoch   1 | 13170/21950 batches | lr 0.000001 | 22.30 ms | loss 3.14155 | ppl    23.14\n",
      "| epoch   1 | 17560/21950 batches | lr 0.000001 | 22.31 ms | loss 0.26959 | ppl     1.31\n",
      "| epoch   1 | 21950/21950 batches | lr 0.000001 | 20.40 ms | loss 1.05788 | ppl     2.88\n",
      "-----------------------------------------------------------------------------------------\n",
      "| end of epoch   1 | time: 483.11s | valid loss 0.47904 | valid ppl     1.61\n",
      "-----------------------------------------------------------------------------------------\n",
      "./dt11112222/108033.p\n",
      "(115876,)\n",
      "torch.Size([109777, 2, 300])\n",
      "torch.Size([5489, 2, 300])\n"
     ]
    },
    {
     "name": "stderr",
     "output_type": "stream",
     "text": [
      "/opt/conda/lib/python3.7/site-packages/torch/optim/lr_scheduler.py:370: UserWarning: To get the last learning rate computed by the scheduler, please use `get_last_lr()`.\n",
      "  \"please use `get_last_lr()`.\", UserWarning)\n"
     ]
    },
    {
     "name": "stdout",
     "output_type": "stream",
     "text": [
      "| epoch   1 |  4391/21955 batches | lr 0.000001 | 22.36 ms | loss 2.96156 | ppl    19.33\n",
      "| epoch   1 |  8782/21955 batches | lr 0.000001 | 22.34 ms | loss 0.45293 | ppl     1.57\n",
      "| epoch   1 | 13173/21955 batches | lr 0.000001 | 22.35 ms | loss 0.86494 | ppl     2.37\n",
      "| epoch   1 | 17564/21955 batches | lr 0.000001 | 19.07 ms | loss 0.32113 | ppl     1.38\n",
      "| epoch   1 | 21955/21955 batches | lr 0.000001 | 22.32 ms | loss 0.36909 | ppl     1.45\n",
      "-----------------------------------------------------------------------------------------\n",
      "| end of epoch   1 | time: 494.08s | valid loss 5.04237 | valid ppl   154.84\n",
      "-----------------------------------------------------------------------------------------\n",
      "./dt11112222/3834113.p\n",
      "(115880,)\n",
      "torch.Size([109781, 2, 300])\n",
      "torch.Size([5489, 2, 300])\n"
     ]
    },
    {
     "name": "stderr",
     "output_type": "stream",
     "text": [
      "/opt/conda/lib/python3.7/site-packages/torch/optim/lr_scheduler.py:370: UserWarning: To get the last learning rate computed by the scheduler, please use `get_last_lr()`.\n",
      "  \"please use `get_last_lr()`.\", UserWarning)\n"
     ]
    },
    {
     "name": "stdout",
     "output_type": "stream",
     "text": [
      "| epoch   1 |  4391/21956 batches | lr 0.000001 | 22.31 ms | loss 1.08517 | ppl     2.96\n",
      "| epoch   1 |  8782/21956 batches | lr 0.000001 | 19.31 ms | loss 3.74719 | ppl    42.40\n",
      "| epoch   1 | 13173/21956 batches | lr 0.000001 | 22.18 ms | loss 1.31955 | ppl     3.74\n",
      "| epoch   1 | 17564/21956 batches | lr 0.000001 | 22.35 ms | loss 3.67931 | ppl    39.62\n",
      "| epoch   1 | 21955/21956 batches | lr 0.000001 | 22.32 ms | loss 0.45328 | ppl     1.57\n",
      "-----------------------------------------------------------------------------------------\n",
      "| end of epoch   1 | time: 494.21s | valid loss 0.48004 | valid ppl     1.62\n",
      "-----------------------------------------------------------------------------------------\n",
      "./dt11112222/4278529.p\n",
      "(89759,)\n",
      "torch.Size([84966, 2, 300])\n",
      "torch.Size([4183, 2, 300])\n"
     ]
    },
    {
     "name": "stderr",
     "output_type": "stream",
     "text": [
      "/opt/conda/lib/python3.7/site-packages/torch/optim/lr_scheduler.py:370: UserWarning: To get the last learning rate computed by the scheduler, please use `get_last_lr()`.\n",
      "  \"please use `get_last_lr()`.\", UserWarning)\n"
     ]
    },
    {
     "name": "stdout",
     "output_type": "stream",
     "text": [
      "| epoch   1 |  3398/16993 batches | lr 0.000001 | 18.23 ms | loss 1.88189 | ppl     6.57\n",
      "| epoch   1 |  6796/16993 batches | lr 0.000001 | 22.27 ms | loss 1.25895 | ppl     3.52\n",
      "| epoch   1 | 10194/16993 batches | lr 0.000001 | 22.33 ms | loss 0.18912 | ppl     1.21\n",
      "| epoch   1 | 13592/16993 batches | lr 0.000001 | 22.35 ms | loss 0.78603 | ppl     2.19\n",
      "| epoch   1 | 16990/16993 batches | lr 0.000001 | 22.31 ms | loss 0.45545 | ppl     1.58\n",
      "-----------------------------------------------------------------------------------------\n",
      "| end of epoch   1 | time: 377.11s | valid loss 5.06591 | valid ppl   158.53\n",
      "-----------------------------------------------------------------------------------------\n",
      "./dt11112222/4488705.p\n",
      "(115870,)\n",
      "torch.Size([109771, 2, 300])\n",
      "torch.Size([5489, 2, 300])\n"
     ]
    },
    {
     "name": "stderr",
     "output_type": "stream",
     "text": [
      "/opt/conda/lib/python3.7/site-packages/torch/optim/lr_scheduler.py:370: UserWarning: To get the last learning rate computed by the scheduler, please use `get_last_lr()`.\n",
      "  \"please use `get_last_lr()`.\", UserWarning)\n"
     ]
    },
    {
     "name": "stdout",
     "output_type": "stream",
     "text": [
      "| epoch   1 |  4390/21954 batches | lr 0.000001 | 21.03 ms | loss 1.01931 | ppl     2.77\n",
      "| epoch   1 |  8780/21954 batches | lr 0.000001 | 22.29 ms | loss 0.57503 | ppl     1.78\n",
      "| epoch   1 | 13170/21954 batches | lr 0.000001 | 22.30 ms | loss 0.26771 | ppl     1.31\n",
      "| epoch   1 | 17560/21954 batches | lr 0.000001 | 19.15 ms | loss 0.96141 | ppl     2.62\n",
      "| epoch   1 | 21950/21954 batches | lr 0.000001 | 22.33 ms | loss 2.17417 | ppl     8.79\n",
      "-----------------------------------------------------------------------------------------\n",
      "| end of epoch   1 | time: 488.49s | valid loss 0.94827 | valid ppl     2.58\n",
      "-----------------------------------------------------------------------------------------\n",
      "./dt11112222/3924993.p\n",
      "(115857,)\n",
      "torch.Size([109759, 2, 300])\n",
      "torch.Size([5488, 2, 300])\n"
     ]
    },
    {
     "name": "stderr",
     "output_type": "stream",
     "text": [
      "/opt/conda/lib/python3.7/site-packages/torch/optim/lr_scheduler.py:370: UserWarning: To get the last learning rate computed by the scheduler, please use `get_last_lr()`.\n",
      "  \"please use `get_last_lr()`.\", UserWarning)\n"
     ]
    },
    {
     "name": "stdout",
     "output_type": "stream",
     "text": [
      "| epoch   1 |  4390/21951 batches | lr 0.000001 | 22.35 ms | loss 10.69845 | ppl 44287.27\n",
      "| epoch   1 |  8780/21951 batches | lr 0.000001 | 22.28 ms | loss 6.97945 | ppl  1074.33\n",
      "| epoch   1 | 13170/21951 batches | lr 0.000001 | 19.07 ms | loss 8.19106 | ppl  3608.56\n",
      "| epoch   1 | 17560/21951 batches | lr 0.000001 | 22.33 ms | loss 9.80266 | ppl 18081.84\n",
      "| epoch   1 | 21950/21951 batches | lr 0.000001 | 22.29 ms | loss 3.02770 | ppl    20.65\n",
      "-----------------------------------------------------------------------------------------\n",
      "| end of epoch   1 | time: 493.70s | valid loss 1.08590 | valid ppl     2.96\n",
      "-----------------------------------------------------------------------------------------\n",
      "./dt11112222/3039233.p\n",
      "(115881,)\n",
      "torch.Size([109781, 2, 300])\n",
      "torch.Size([5490, 2, 300])\n"
     ]
    },
    {
     "name": "stderr",
     "output_type": "stream",
     "text": [
      "/opt/conda/lib/python3.7/site-packages/torch/optim/lr_scheduler.py:370: UserWarning: To get the last learning rate computed by the scheduler, please use `get_last_lr()`.\n",
      "  \"please use `get_last_lr()`.\", UserWarning)\n"
     ]
    },
    {
     "name": "stdout",
     "output_type": "stream",
     "text": [
      "| epoch   1 |  4391/21956 batches | lr 0.000001 | 19.14 ms | loss 0.19953 | ppl     1.22\n",
      "| epoch   1 |  8782/21956 batches | lr 0.000001 | 22.29 ms | loss 1.35841 | ppl     3.89\n",
      "| epoch   1 | 13173/21956 batches | lr 0.000001 | 22.32 ms | loss 5.93341 | ppl   377.44\n",
      "| epoch   1 | 17564/21956 batches | lr 0.000001 | 22.29 ms | loss 0.29524 | ppl     1.34\n",
      "| epoch   1 | 21955/21956 batches | lr 0.000001 | 19.05 ms | loss 3.06738 | ppl    21.49\n",
      "-----------------------------------------------------------------------------------------\n",
      "| end of epoch   1 | time: 479.30s | valid loss 4.12217 | valid ppl    61.69\n",
      "-----------------------------------------------------------------------------------------\n",
      "./dt11112222/975873.p\n",
      "(115832,)\n",
      "torch.Size([109735, 2, 300])\n",
      "torch.Size([5487, 2, 300])\n"
     ]
    },
    {
     "name": "stderr",
     "output_type": "stream",
     "text": [
      "/opt/conda/lib/python3.7/site-packages/torch/optim/lr_scheduler.py:370: UserWarning: To get the last learning rate computed by the scheduler, please use `get_last_lr()`.\n",
      "  \"please use `get_last_lr()`.\", UserWarning)\n"
     ]
    },
    {
     "name": "stdout",
     "output_type": "stream",
     "text": [
      "| epoch   1 |  4389/21947 batches | lr 0.000001 | 22.30 ms | loss 8.83615 | ppl  6878.45\n",
      "| epoch   1 |  8778/21947 batches | lr 0.000001 | 22.30 ms | loss 4.03596 | ppl    56.60\n",
      "| epoch   1 | 13167/21947 batches | lr 0.000001 | 20.61 ms | loss 1.18982 | ppl     3.29\n",
      "| epoch   1 | 17556/21947 batches | lr 0.000001 | 21.13 ms | loss 0.24208 | ppl     1.27\n",
      "| epoch   1 | 21945/21947 batches | lr 0.000001 | 21.16 ms | loss 0.19383 | ppl     1.21\n",
      "-----------------------------------------------------------------------------------------\n",
      "| end of epoch   1 | time: 489.80s | valid loss 2.37808 | valid ppl    10.78\n",
      "-----------------------------------------------------------------------------------------\n",
      "./dt11112222/1793.p\n",
      "(115877,)\n",
      "torch.Size([109778, 2, 300])\n",
      "torch.Size([5489, 2, 300])\n"
     ]
    },
    {
     "name": "stderr",
     "output_type": "stream",
     "text": [
      "/opt/conda/lib/python3.7/site-packages/torch/optim/lr_scheduler.py:370: UserWarning: To get the last learning rate computed by the scheduler, please use `get_last_lr()`.\n",
      "  \"please use `get_last_lr()`.\", UserWarning)\n"
     ]
    },
    {
     "name": "stdout",
     "output_type": "stream",
     "text": [
      "| epoch   1 |  4391/21955 batches | lr 0.000001 | 22.29 ms | loss 1.65856 | ppl     5.25\n",
      "| epoch   1 |  8782/21955 batches | lr 0.000001 | 22.32 ms | loss 1.77290 | ppl     5.89\n"
     ]
    }
   ],
   "source": [
    "counter = 0\n",
    "files_to_consider = 15\n",
    "\n",
    "while True:\n",
    "    for dirname, _, filenames in os.walk('./dt11112222/'):\n",
    "        for filename in filenames:\n",
    "            path_str = os.path.join(dirname, filename)\n",
    "            split_lst = path_str.split('.')\n",
    "            contains = 'p' in split_lst\n",
    "            if(contains): ## and counter<files_to_consider\n",
    "\n",
    "                one_plty = filename.split('/')[0].split('.')[0]\n",
    "\n",
    "                train_data, val_data = get_data2(one_plty)\n",
    "\n",
    "                for epoch in range(1, epochs + 1):\n",
    "                    epoch_start_time = time.time()\n",
    "                    train(train_data)\n",
    "\n",
    "                    if(epoch % 1 == 0):\n",
    "                        val_loss = plot_and_loss(model, val_data,epoch,one_plty)\n",
    "                        predict_future(model, val_data,200,one_plty)\n",
    "                    else:\n",
    "                        val_loss = evaluate(model, val_data)\n",
    "\n",
    "                    print('-' * 89)\n",
    "                    print('| end of epoch {:3d} | time: {:5.2f}s | valid loss {:5.5f} | valid ppl {:8.2f}'.format(epoch, (time.time() - epoch_start_time),\n",
    "                                                     val_loss, math.exp(val_loss)))\n",
    "                    print('-' * 89)\n",
    "                    \n",
    "                    torch.save(model,'./best_model_multi11.pt')\n",
    "                    torch.save(model,f'./inst_wise_model_1x/{one_plty}.pt')\n",
    "                    \n",
    "                    valid_loss_list.append({'inst':one_plty,\n",
    "                                            'loss':val_loss})\n",
    "                    valid_loss_map_df = pd.DataFrame(valid_loss_list)\n",
    "                    valid_loss_map_df.to_excel('./valid_loss_map_df_1x.xlsx')\n",
    "                    \n",
    "                    \n",
    "                    if val_loss < best_val_loss:\n",
    "                        best_val_loss = val_loss\n",
    "                        best_model = model\n",
    "                        torch.save(best_model,'./best_model_multi11_best.pt')\n",
    "                        model= torch.load('./best_model_multi10_best.pt')\n",
    "\n",
    "                #src = torch.rand(input_window, batch_size, 1) # (source sequence length,batch size,feature number) \n",
    "                #out = model(src)\n",
    "                #\n",
    "                #print(out)\n",
    "                #print(out.shape)\n",
    "\n",
    "                print(path_str)\n",
    "                counter+=1\n",
    "                \n",
    "    scheduler.step() "
   ]
  },
  {
   "cell_type": "code",
   "execution_count": null,
   "metadata": {},
   "outputs": [],
   "source": [
    "torch.save(model,'./best_model_multi11.pt')"
   ]
  },
  {
   "cell_type": "code",
   "execution_count": null,
   "metadata": {},
   "outputs": [],
   "source": [
    "print('sdfsdf')"
   ]
  },
  {
   "cell_type": "code",
   "execution_count": null,
   "metadata": {
    "ExecuteTime": {
     "end_time": "2021-06-08T03:35:18.747412Z",
     "start_time": "2021-06-08T03:35:18.739652Z"
    }
   },
   "outputs": [],
   "source": [
    "train_data.shape"
   ]
  },
  {
   "cell_type": "code",
   "execution_count": null,
   "metadata": {
    "ExecuteTime": {
     "end_time": "2021-06-08T03:35:18.763454Z",
     "start_time": "2021-06-08T03:35:18.749417Z"
    }
   },
   "outputs": [],
   "source": [
    "val_data.shape"
   ]
  },
  {
   "cell_type": "code",
   "execution_count": null,
   "metadata": {
    "ExecuteTime": {
     "start_time": "2021-06-08T03:35:15.379Z"
    }
   },
   "outputs": [],
   "source": [
    "# for epoch in range(1, epochs + 1):\n",
    "#     epoch_start_time = time.time()\n",
    "#     train(train_data)\n",
    "    \n",
    "#     if(epoch % 1 == 0):\n",
    "#         val_loss = plot_and_loss(model, val_data,epoch)\n",
    "#         predict_future(model, val_data,200)\n",
    "#     else:\n",
    "#         val_loss = evaluate(model, val_data)\n",
    "        \n",
    "#     print('-' * 89)\n",
    "#     print('| end of epoch {:3d} | time: {:5.2f}s | valid loss {:5.5f} | valid ppl {:8.2f}'.format(epoch, (time.time() - epoch_start_time),\n",
    "#                                      val_loss, math.exp(val_loss)))\n",
    "#     print('-' * 89)\n",
    "\n",
    "#     if val_loss < best_val_loss:\n",
    "#         best_val_loss = val_loss\n",
    "#         best_model = model\n",
    "#         torch.save(best_model,'./best_model_multi.pt')\n",
    "\n",
    "#     scheduler.step() \n",
    "\n",
    "# #src = torch.rand(input_window, batch_size, 1) # (source sequence length,batch size,feature number) \n",
    "# #out = model(src)\n",
    "# #\n",
    "# #print(out)\n",
    "# #print(out.shape)"
   ]
  },
  {
   "cell_type": "code",
   "execution_count": null,
   "metadata": {},
   "outputs": [],
   "source": [
    "# src = torch.rand(30, batch_size, 30) # (source sequence length,batch size,feature number) \n",
    "# src = src.to(device=\"cuda\")\n",
    "# # out = gf(val_data[0])\n",
    "# print(src.shape)\n",
    "# out = model(src)\n",
    "\n",
    "# print(out)\n",
    "# print(out.shape)"
   ]
  },
  {
   "cell_type": "code",
   "execution_count": null,
   "metadata": {},
   "outputs": [],
   "source": [
    "print('hi')"
   ]
  },
  {
   "cell_type": "code",
   "execution_count": null,
   "metadata": {},
   "outputs": [],
   "source": []
  },
  {
   "cell_type": "code",
   "execution_count": null,
   "metadata": {},
   "outputs": [],
   "source": [
    "# gf= torch.load('../input/dt11112222/best_model_multi.pt')"
   ]
  },
  {
   "cell_type": "code",
   "execution_count": null,
   "metadata": {},
   "outputs": [],
   "source": []
  }
 ],
 "metadata": {
  "environment": {
   "name": "common-cu110.m71",
   "type": "gcloud",
   "uri": "gcr.io/deeplearning-platform-release/base-cu110:m71"
  },
  "hide_input": false,
  "kernelspec": {
   "display_name": "Python 3",
   "language": "python",
   "name": "python3"
  },
  "language_info": {
   "codemirror_mode": {
    "name": "ipython",
    "version": 3
   },
   "file_extension": ".py",
   "mimetype": "text/x-python",
   "name": "python",
   "nbconvert_exporter": "python",
   "pygments_lexer": "ipython3",
   "version": "3.8.10"
  },
  "varInspector": {
   "cols": {
    "lenName": 16,
    "lenType": 16,
    "lenVar": 40
   },
   "kernels_config": {
    "python": {
     "delete_cmd_postfix": "",
     "delete_cmd_prefix": "del ",
     "library": "var_list.py",
     "varRefreshCmd": "print(var_dic_list())"
    },
    "r": {
     "delete_cmd_postfix": ") ",
     "delete_cmd_prefix": "rm(",
     "library": "var_list.r",
     "varRefreshCmd": "cat(var_dic_list()) "
    }
   },
   "types_to_exclude": [
    "module",
    "function",
    "builtin_function_or_method",
    "instance",
    "_Feature"
   ],
   "window_display": false
  }
 },
 "nbformat": 4,
 "nbformat_minor": 4
}
